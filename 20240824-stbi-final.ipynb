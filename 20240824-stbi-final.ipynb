{
 "cells": [
  {
   "cell_type": "code",
   "id": "initial_id",
   "metadata": {
    "collapsed": true,
    "ExecuteTime": {
     "end_time": "2024-08-24T03:45:56.353645Z",
     "start_time": "2024-08-24T03:45:56.351070Z"
    }
   },
   "source": [
    "import requests\n",
    "import pandas as pd\n",
    "import numpy as np\n",
    "import tensorflow_hub as hub\n"
   ],
   "outputs": [],
   "execution_count": 25
  },
  {
   "metadata": {
    "ExecuteTime": {
     "end_time": "2024-08-24T03:41:59.176409Z",
     "start_time": "2024-08-24T03:41:56.838133Z"
    }
   },
   "cell_type": "code",
   "source": [
    "# Load the pre-trained Universal Sentence Encoder model\n",
    "model = hub.load(\"https://tfhub.dev/google/universal-sentence-encoder/4\")\n"
   ],
   "id": "b423c07a37b7607f",
   "outputs": [],
   "execution_count": 4
  },
  {
   "metadata": {
    "ExecuteTime": {
     "end_time": "2024-08-24T03:42:02.862750Z",
     "start_time": "2024-08-24T03:42:02.812734Z"
    }
   },
   "cell_type": "code",
   "source": [
    "df = pd.read_csv(\"cancer_diagnosis_clean.csv\")\n",
    "df"
   ],
   "id": "7f434f587f29b128",
   "outputs": [
    {
     "data": {
      "text/plain": [
       "                                 Patient_ID  Age  Gender  Tumor_Size  \\\n",
       "0      c044501a-43ca-4a0c-8b8b-991439ba1b6a   52  Female        5.08   \n",
       "1      b8900c4c-1232-4084-9432-5d02eba74d20   32  Female        0.80   \n",
       "2      3004e2bc-8037-49cb-a542-d5612b73beab   70  Female        9.56   \n",
       "3      1df86af7-6745-4dea-b127-cbc9915079fc   21  Female        3.07   \n",
       "4      128e00c3-72e3-4031-a7f4-1165d7199cce   62    Male        7.17   \n",
       "...                                     ...  ...     ...         ...   \n",
       "19995  863e873e-2934-4514-94e1-a2ce6429dddd   71  Female        8.99   \n",
       "19996  854c96f3-39eb-40bb-b50d-0640a356549a   35    Male        4.25   \n",
       "19997  8c1f285d-48bf-4cfa-9a89-da083b7943f2   56  Female        6.43   \n",
       "19998  c6dc70ee-4dcd-41e6-aae6-043923cb12c0   39  Female        6.08   \n",
       "19999  7af66d60-f88e-45f4-b1eb-5950f67441a4   62  Female        7.46   \n",
       "\n",
       "      Tumor_Type Biopsy_Result          Treatment Response_to_Treatment  \\\n",
       "0         Benign      Positive            Surgery           No Response   \n",
       "1         Benign      Negative            Surgery     Complete Response   \n",
       "2         Benign      Positive  Radiation Therapy     Complete Response   \n",
       "3      Malignant      Negative            Surgery      Partial Response   \n",
       "4      Malignant      Positive  Radiation Therapy     Complete Response   \n",
       "...          ...           ...                ...                   ...   \n",
       "19995     Benign      Negative  Radiation Therapy      Partial Response   \n",
       "19996     Benign      Negative       Chemotherapy     Complete Response   \n",
       "19997     Benign      Negative  Radiation Therapy      Partial Response   \n",
       "19998  Malignant      Negative  Radiation Therapy           No Response   \n",
       "19999  Malignant      Positive       Chemotherapy     Complete Response   \n",
       "\n",
       "      Survival_Status  \n",
       "0            Survived  \n",
       "1            Survived  \n",
       "2            Deceased  \n",
       "3            Survived  \n",
       "4            Deceased  \n",
       "...               ...  \n",
       "19995        Deceased  \n",
       "19996        Survived  \n",
       "19997        Survived  \n",
       "19998        Survived  \n",
       "19999        Survived  \n",
       "\n",
       "[20000 rows x 9 columns]"
      ],
      "text/html": [
       "<div>\n",
       "<style scoped>\n",
       "    .dataframe tbody tr th:only-of-type {\n",
       "        vertical-align: middle;\n",
       "    }\n",
       "\n",
       "    .dataframe tbody tr th {\n",
       "        vertical-align: top;\n",
       "    }\n",
       "\n",
       "    .dataframe thead th {\n",
       "        text-align: right;\n",
       "    }\n",
       "</style>\n",
       "<table border=\"1\" class=\"dataframe\">\n",
       "  <thead>\n",
       "    <tr style=\"text-align: right;\">\n",
       "      <th></th>\n",
       "      <th>Patient_ID</th>\n",
       "      <th>Age</th>\n",
       "      <th>Gender</th>\n",
       "      <th>Tumor_Size</th>\n",
       "      <th>Tumor_Type</th>\n",
       "      <th>Biopsy_Result</th>\n",
       "      <th>Treatment</th>\n",
       "      <th>Response_to_Treatment</th>\n",
       "      <th>Survival_Status</th>\n",
       "    </tr>\n",
       "  </thead>\n",
       "  <tbody>\n",
       "    <tr>\n",
       "      <th>0</th>\n",
       "      <td>c044501a-43ca-4a0c-8b8b-991439ba1b6a</td>\n",
       "      <td>52</td>\n",
       "      <td>Female</td>\n",
       "      <td>5.08</td>\n",
       "      <td>Benign</td>\n",
       "      <td>Positive</td>\n",
       "      <td>Surgery</td>\n",
       "      <td>No Response</td>\n",
       "      <td>Survived</td>\n",
       "    </tr>\n",
       "    <tr>\n",
       "      <th>1</th>\n",
       "      <td>b8900c4c-1232-4084-9432-5d02eba74d20</td>\n",
       "      <td>32</td>\n",
       "      <td>Female</td>\n",
       "      <td>0.80</td>\n",
       "      <td>Benign</td>\n",
       "      <td>Negative</td>\n",
       "      <td>Surgery</td>\n",
       "      <td>Complete Response</td>\n",
       "      <td>Survived</td>\n",
       "    </tr>\n",
       "    <tr>\n",
       "      <th>2</th>\n",
       "      <td>3004e2bc-8037-49cb-a542-d5612b73beab</td>\n",
       "      <td>70</td>\n",
       "      <td>Female</td>\n",
       "      <td>9.56</td>\n",
       "      <td>Benign</td>\n",
       "      <td>Positive</td>\n",
       "      <td>Radiation Therapy</td>\n",
       "      <td>Complete Response</td>\n",
       "      <td>Deceased</td>\n",
       "    </tr>\n",
       "    <tr>\n",
       "      <th>3</th>\n",
       "      <td>1df86af7-6745-4dea-b127-cbc9915079fc</td>\n",
       "      <td>21</td>\n",
       "      <td>Female</td>\n",
       "      <td>3.07</td>\n",
       "      <td>Malignant</td>\n",
       "      <td>Negative</td>\n",
       "      <td>Surgery</td>\n",
       "      <td>Partial Response</td>\n",
       "      <td>Survived</td>\n",
       "    </tr>\n",
       "    <tr>\n",
       "      <th>4</th>\n",
       "      <td>128e00c3-72e3-4031-a7f4-1165d7199cce</td>\n",
       "      <td>62</td>\n",
       "      <td>Male</td>\n",
       "      <td>7.17</td>\n",
       "      <td>Malignant</td>\n",
       "      <td>Positive</td>\n",
       "      <td>Radiation Therapy</td>\n",
       "      <td>Complete Response</td>\n",
       "      <td>Deceased</td>\n",
       "    </tr>\n",
       "    <tr>\n",
       "      <th>...</th>\n",
       "      <td>...</td>\n",
       "      <td>...</td>\n",
       "      <td>...</td>\n",
       "      <td>...</td>\n",
       "      <td>...</td>\n",
       "      <td>...</td>\n",
       "      <td>...</td>\n",
       "      <td>...</td>\n",
       "      <td>...</td>\n",
       "    </tr>\n",
       "    <tr>\n",
       "      <th>19995</th>\n",
       "      <td>863e873e-2934-4514-94e1-a2ce6429dddd</td>\n",
       "      <td>71</td>\n",
       "      <td>Female</td>\n",
       "      <td>8.99</td>\n",
       "      <td>Benign</td>\n",
       "      <td>Negative</td>\n",
       "      <td>Radiation Therapy</td>\n",
       "      <td>Partial Response</td>\n",
       "      <td>Deceased</td>\n",
       "    </tr>\n",
       "    <tr>\n",
       "      <th>19996</th>\n",
       "      <td>854c96f3-39eb-40bb-b50d-0640a356549a</td>\n",
       "      <td>35</td>\n",
       "      <td>Male</td>\n",
       "      <td>4.25</td>\n",
       "      <td>Benign</td>\n",
       "      <td>Negative</td>\n",
       "      <td>Chemotherapy</td>\n",
       "      <td>Complete Response</td>\n",
       "      <td>Survived</td>\n",
       "    </tr>\n",
       "    <tr>\n",
       "      <th>19997</th>\n",
       "      <td>8c1f285d-48bf-4cfa-9a89-da083b7943f2</td>\n",
       "      <td>56</td>\n",
       "      <td>Female</td>\n",
       "      <td>6.43</td>\n",
       "      <td>Benign</td>\n",
       "      <td>Negative</td>\n",
       "      <td>Radiation Therapy</td>\n",
       "      <td>Partial Response</td>\n",
       "      <td>Survived</td>\n",
       "    </tr>\n",
       "    <tr>\n",
       "      <th>19998</th>\n",
       "      <td>c6dc70ee-4dcd-41e6-aae6-043923cb12c0</td>\n",
       "      <td>39</td>\n",
       "      <td>Female</td>\n",
       "      <td>6.08</td>\n",
       "      <td>Malignant</td>\n",
       "      <td>Negative</td>\n",
       "      <td>Radiation Therapy</td>\n",
       "      <td>No Response</td>\n",
       "      <td>Survived</td>\n",
       "    </tr>\n",
       "    <tr>\n",
       "      <th>19999</th>\n",
       "      <td>7af66d60-f88e-45f4-b1eb-5950f67441a4</td>\n",
       "      <td>62</td>\n",
       "      <td>Female</td>\n",
       "      <td>7.46</td>\n",
       "      <td>Malignant</td>\n",
       "      <td>Positive</td>\n",
       "      <td>Chemotherapy</td>\n",
       "      <td>Complete Response</td>\n",
       "      <td>Survived</td>\n",
       "    </tr>\n",
       "  </tbody>\n",
       "</table>\n",
       "<p>20000 rows × 9 columns</p>\n",
       "</div>"
      ]
     },
     "execution_count": 5,
     "metadata": {},
     "output_type": "execute_result"
    }
   ],
   "execution_count": 5
  },
  {
   "metadata": {
    "ExecuteTime": {
     "end_time": "2024-08-24T03:42:07.918942Z",
     "start_time": "2024-08-24T03:42:07.904066Z"
    }
   },
   "cell_type": "code",
   "source": [
    "ages = sorted(df['Age'].unique())\n",
    "genders = sorted(df['Gender'].unique())\n",
    "tumor_sizes = sorted(df['Tumor_Size'].unique())\n",
    "biopsy_results = sorted(df['Biopsy_Result'].unique())\n",
    "treatments = (df['Treatment'].unique())\n",
    "treatment_responses = (df['Response_to_Treatment'].unique())\n",
    "survival_status = (df['Survival_Status'].unique())\n",
    "\n",
    "print(f\"Ages                 : {ages[0]} to {ages[len(ages)-1]}\")\n",
    "print(f\"Genders              : {genders}\")\n",
    "print(f\"Tumor Sizes          : {tumor_sizes[0]} to {tumor_sizes[len(tumor_sizes)-1]}\")\n",
    "print(f\"Results              : {biopsy_results}\")\n",
    "print(f\"Treatments           : {treatments}\")\n",
    "print(f\"Treatment Responses  : {treatment_responses}\")\n",
    "print(f\"Survival Statuses    : {survival_status}\")"
   ],
   "id": "489b058f43aab65",
   "outputs": [
    {
     "name": "stdout",
     "output_type": "stream",
     "text": [
      "Ages                 : 20 to 80\n",
      "Genders              : ['Female', 'Male']\n",
      "Tumor Sizes          : 0.5 to 10.0\n",
      "Results              : ['Negative', 'Positive']\n",
      "Treatments           : ['Surgery' 'Radiation Therapy' 'Chemotherapy']\n",
      "Treatment Responses  : ['No Response' 'Complete Response' 'Partial Response']\n",
      "Survival Statuses    : ['Survived' 'Deceased']\n"
     ]
    }
   ],
   "execution_count": 6
  },
  {
   "metadata": {},
   "cell_type": "markdown",
   "source": "# Do Process",
   "id": "c9ed9a4c39f1f3d8"
  },
  {
   "metadata": {
    "ExecuteTime": {
     "end_time": "2024-08-24T03:42:10.209881Z",
     "start_time": "2024-08-24T03:42:10.197260Z"
    }
   },
   "cell_type": "code",
   "source": "df.count()",
   "id": "95b60d591fd6a90d",
   "outputs": [
    {
     "data": {
      "text/plain": [
       "Patient_ID               20000\n",
       "Age                      20000\n",
       "Gender                   20000\n",
       "Tumor_Size               20000\n",
       "Tumor_Type               20000\n",
       "Biopsy_Result            20000\n",
       "Treatment                20000\n",
       "Response_to_Treatment    20000\n",
       "Survival_Status          20000\n",
       "dtype: int64"
      ]
     },
     "execution_count": 7,
     "metadata": {},
     "output_type": "execute_result"
    }
   ],
   "execution_count": 7
  },
  {
   "metadata": {
    "ExecuteTime": {
     "end_time": "2024-08-24T03:42:12.404739Z",
     "start_time": "2024-08-24T03:42:12.402311Z"
    }
   },
   "cell_type": "code",
   "source": [
    "def prompt(query):\n",
    "    return f\"\"\"\n",
    "I have Pandas Dataframe with following column:\n",
    "* Age: contain real values from 20 to 80\n",
    "* Gender: contain enum string \"Female\" or \"Male\" only\n",
    "* Tumor_Size: contain floating values ranging from 0.5 to 10.0\n",
    "* Tumor_Type: contain enum string \"Benign\" or \"Malignant\" only\n",
    "* Biopsy_Result: contain enum string \"Negative\" or \"Positive\"\n",
    "* Treatment: contain enum string \"Chemotherapy\", \"Radiation Therapy\", or \"Surgery\"\n",
    "* Response_to_Treatment: contain enum values \"Complete Response\", \"No Response\", or \"Partial Response\"\n",
    "* Survival_Status: contain enum string \"Deceased\" or \"Survived\" only\n",
    "\n",
    "Please create one-line Pandas Dataframe query with consistent code without any explanation (just write one-line code without backtick and use variable `result` as output) if I have variable df that have all the data above if user ask this query:\n",
    "    \n",
    "{query}\n",
    "    \"\"\""
   ],
   "id": "9013e7e807a47555",
   "outputs": [],
   "execution_count": 8
  },
  {
   "metadata": {
    "ExecuteTime": {
     "end_time": "2024-08-24T03:42:15.160423Z",
     "start_time": "2024-08-24T03:42:15.157379Z"
    }
   },
   "cell_type": "code",
   "source": [
    "# user_query = \"how many patients with age ranging from 40-60 with biopsy result positive?\"\n",
    "# user_query = \"distribution of tumor size on female patient with Malignant\"\n",
    "user_query = \"age between 50 until 60 and female and positif and benign\""
   ],
   "id": "47467362cc5d5dd",
   "outputs": [],
   "execution_count": 9
  },
  {
   "metadata": {
    "ExecuteTime": {
     "end_time": "2024-08-24T03:42:17.299965Z",
     "start_time": "2024-08-24T03:42:17.295381Z"
    }
   },
   "cell_type": "code",
   "source": [
    "def query_llama(query):\n",
    "    # Define the API endpoint\n",
    "    url = \"http://localhost:11434/api/generate\"\n",
    "\n",
    "\n",
    "    # Define the payload\n",
    "    payload = {\n",
    "        \"model\": \"llama3.1\",\n",
    "        \"stream\": False,\n",
    "        \"prompt\": prompt(query),\n",
    "    }\n",
    "\n",
    "    # Define headers, including the authorization token if required\n",
    "    headers = {\n",
    "        \"Content-Type\": \"application/json\",\n",
    "    }\n",
    "\n",
    "    # Send the request\n",
    "    response = requests.post(url, json=payload, headers=headers)\n",
    "\n",
    "    # Check the response\n",
    "    if response.status_code == 200:\n",
    "        # Handle the response from the API\n",
    "        code = response.json()['response']\n",
    "        new_code = \"\"\n",
    "        for row in code.split('\\n'):\n",
    "            if \"```\" in row:\n",
    "                continue\n",
    "            new_code += row\n",
    "\n",
    "        if new_code != \"\":\n",
    "            code = new_code\n",
    "\n",
    "        return code\n",
    "\n",
    "    else:\n",
    "        raise Exception(f\"Request failed with status code {response.status_code}: {response.text}\")\n"
   ],
   "id": "92e68df3479315f9",
   "outputs": [],
   "execution_count": 10
  },
  {
   "metadata": {
    "ExecuteTime": {
     "end_time": "2024-08-24T03:42:31.011407Z",
     "start_time": "2024-08-24T03:42:19.435342Z"
    }
   },
   "cell_type": "code",
   "source": [
    "generated_q = query_llama(user_query)\n",
    "print(generated_q)"
   ],
   "id": "fd04c7d92af8652",
   "outputs": [
    {
     "name": "stdout",
     "output_type": "stream",
     "text": [
      "`result = df[(df['Age'] >= 50) & (df['Age'] <= 60) & (df['Gender'] == 'Female') & (df['Biopsy_Result'] == 'Positive') & (df['Tumor_Type'] == 'Benign')]`\n"
     ]
    }
   ],
   "execution_count": 11
  },
  {
   "metadata": {
    "ExecuteTime": {
     "end_time": "2024-08-24T03:45:06.071161Z",
     "start_time": "2024-08-24T03:45:06.066884Z"
    }
   },
   "cell_type": "code",
   "source": "model([generated_q]).shape",
   "id": "b39b4a8f9c554a2a",
   "outputs": [
    {
     "data": {
      "text/plain": [
       "TensorShape([1, 512])"
      ]
     },
     "execution_count": 24,
     "metadata": {},
     "output_type": "execute_result"
    }
   ],
   "execution_count": 24
  },
  {
   "metadata": {
    "ExecuteTime": {
     "end_time": "2024-08-24T03:42:33.099846Z",
     "start_time": "2024-08-24T03:42:33.077468Z"
    }
   },
   "cell_type": "code",
   "source": "df[(df['Age'] >= 50) & (df['Age'] <= 60) & (df['Gender'] == 'Female') & (df['Biopsy_Result'] == 'Positive') & (df['Tumor_Type'] == 'Benign')]",
   "id": "843dd54aae93d4d8",
   "outputs": [
    {
     "data": {
      "text/plain": [
       "                                 Patient_ID  Age  Gender  Tumor_Size  \\\n",
       "0      c044501a-43ca-4a0c-8b8b-991439ba1b6a   52  Female        5.08   \n",
       "11     4e9ae3b3-f55c-409e-8d81-79051572acf1   55  Female        0.81   \n",
       "102    b3e3e50b-1328-499b-9fac-ac4008cb8365   52  Female        0.89   \n",
       "188    8d54fea3-f739-4165-8d77-9a6fc668e48f   53  Female        1.84   \n",
       "202    bb5a381b-399f-4e1c-8ac0-7fd810b224f7   59  Female        4.95   \n",
       "...                                     ...  ...     ...         ...   \n",
       "19577  db7e0519-1a7e-4b4d-80df-b83039caa93e   59  Female        0.60   \n",
       "19603  748bef26-ce3c-47d8-a3a5-62cf54ba91c4   52  Female        9.59   \n",
       "19646  d069e1e6-4920-4f3b-b2f8-517e9b307998   51  Female        5.79   \n",
       "19833  7b2c9233-609d-4bb4-8321-a395b868fadb   57  Female        1.83   \n",
       "19931  c88faaac-ba83-4a13-890d-e0577e21b89e   50  Female        6.53   \n",
       "\n",
       "      Tumor_Type Biopsy_Result          Treatment Response_to_Treatment  \\\n",
       "0         Benign      Positive            Surgery           No Response   \n",
       "11        Benign      Positive            Surgery           No Response   \n",
       "102       Benign      Positive            Surgery      Partial Response   \n",
       "188       Benign      Positive  Radiation Therapy           No Response   \n",
       "202       Benign      Positive  Radiation Therapy           No Response   \n",
       "...          ...           ...                ...                   ...   \n",
       "19577     Benign      Positive       Chemotherapy           No Response   \n",
       "19603     Benign      Positive       Chemotherapy           No Response   \n",
       "19646     Benign      Positive  Radiation Therapy     Complete Response   \n",
       "19833     Benign      Positive       Chemotherapy           No Response   \n",
       "19931     Benign      Positive  Radiation Therapy     Complete Response   \n",
       "\n",
       "      Survival_Status  \n",
       "0            Survived  \n",
       "11           Deceased  \n",
       "102          Deceased  \n",
       "188          Deceased  \n",
       "202          Deceased  \n",
       "...               ...  \n",
       "19577        Deceased  \n",
       "19603        Survived  \n",
       "19646        Deceased  \n",
       "19833        Survived  \n",
       "19931        Deceased  \n",
       "\n",
       "[474 rows x 9 columns]"
      ],
      "text/html": [
       "<div>\n",
       "<style scoped>\n",
       "    .dataframe tbody tr th:only-of-type {\n",
       "        vertical-align: middle;\n",
       "    }\n",
       "\n",
       "    .dataframe tbody tr th {\n",
       "        vertical-align: top;\n",
       "    }\n",
       "\n",
       "    .dataframe thead th {\n",
       "        text-align: right;\n",
       "    }\n",
       "</style>\n",
       "<table border=\"1\" class=\"dataframe\">\n",
       "  <thead>\n",
       "    <tr style=\"text-align: right;\">\n",
       "      <th></th>\n",
       "      <th>Patient_ID</th>\n",
       "      <th>Age</th>\n",
       "      <th>Gender</th>\n",
       "      <th>Tumor_Size</th>\n",
       "      <th>Tumor_Type</th>\n",
       "      <th>Biopsy_Result</th>\n",
       "      <th>Treatment</th>\n",
       "      <th>Response_to_Treatment</th>\n",
       "      <th>Survival_Status</th>\n",
       "    </tr>\n",
       "  </thead>\n",
       "  <tbody>\n",
       "    <tr>\n",
       "      <th>0</th>\n",
       "      <td>c044501a-43ca-4a0c-8b8b-991439ba1b6a</td>\n",
       "      <td>52</td>\n",
       "      <td>Female</td>\n",
       "      <td>5.08</td>\n",
       "      <td>Benign</td>\n",
       "      <td>Positive</td>\n",
       "      <td>Surgery</td>\n",
       "      <td>No Response</td>\n",
       "      <td>Survived</td>\n",
       "    </tr>\n",
       "    <tr>\n",
       "      <th>11</th>\n",
       "      <td>4e9ae3b3-f55c-409e-8d81-79051572acf1</td>\n",
       "      <td>55</td>\n",
       "      <td>Female</td>\n",
       "      <td>0.81</td>\n",
       "      <td>Benign</td>\n",
       "      <td>Positive</td>\n",
       "      <td>Surgery</td>\n",
       "      <td>No Response</td>\n",
       "      <td>Deceased</td>\n",
       "    </tr>\n",
       "    <tr>\n",
       "      <th>102</th>\n",
       "      <td>b3e3e50b-1328-499b-9fac-ac4008cb8365</td>\n",
       "      <td>52</td>\n",
       "      <td>Female</td>\n",
       "      <td>0.89</td>\n",
       "      <td>Benign</td>\n",
       "      <td>Positive</td>\n",
       "      <td>Surgery</td>\n",
       "      <td>Partial Response</td>\n",
       "      <td>Deceased</td>\n",
       "    </tr>\n",
       "    <tr>\n",
       "      <th>188</th>\n",
       "      <td>8d54fea3-f739-4165-8d77-9a6fc668e48f</td>\n",
       "      <td>53</td>\n",
       "      <td>Female</td>\n",
       "      <td>1.84</td>\n",
       "      <td>Benign</td>\n",
       "      <td>Positive</td>\n",
       "      <td>Radiation Therapy</td>\n",
       "      <td>No Response</td>\n",
       "      <td>Deceased</td>\n",
       "    </tr>\n",
       "    <tr>\n",
       "      <th>202</th>\n",
       "      <td>bb5a381b-399f-4e1c-8ac0-7fd810b224f7</td>\n",
       "      <td>59</td>\n",
       "      <td>Female</td>\n",
       "      <td>4.95</td>\n",
       "      <td>Benign</td>\n",
       "      <td>Positive</td>\n",
       "      <td>Radiation Therapy</td>\n",
       "      <td>No Response</td>\n",
       "      <td>Deceased</td>\n",
       "    </tr>\n",
       "    <tr>\n",
       "      <th>...</th>\n",
       "      <td>...</td>\n",
       "      <td>...</td>\n",
       "      <td>...</td>\n",
       "      <td>...</td>\n",
       "      <td>...</td>\n",
       "      <td>...</td>\n",
       "      <td>...</td>\n",
       "      <td>...</td>\n",
       "      <td>...</td>\n",
       "    </tr>\n",
       "    <tr>\n",
       "      <th>19577</th>\n",
       "      <td>db7e0519-1a7e-4b4d-80df-b83039caa93e</td>\n",
       "      <td>59</td>\n",
       "      <td>Female</td>\n",
       "      <td>0.60</td>\n",
       "      <td>Benign</td>\n",
       "      <td>Positive</td>\n",
       "      <td>Chemotherapy</td>\n",
       "      <td>No Response</td>\n",
       "      <td>Deceased</td>\n",
       "    </tr>\n",
       "    <tr>\n",
       "      <th>19603</th>\n",
       "      <td>748bef26-ce3c-47d8-a3a5-62cf54ba91c4</td>\n",
       "      <td>52</td>\n",
       "      <td>Female</td>\n",
       "      <td>9.59</td>\n",
       "      <td>Benign</td>\n",
       "      <td>Positive</td>\n",
       "      <td>Chemotherapy</td>\n",
       "      <td>No Response</td>\n",
       "      <td>Survived</td>\n",
       "    </tr>\n",
       "    <tr>\n",
       "      <th>19646</th>\n",
       "      <td>d069e1e6-4920-4f3b-b2f8-517e9b307998</td>\n",
       "      <td>51</td>\n",
       "      <td>Female</td>\n",
       "      <td>5.79</td>\n",
       "      <td>Benign</td>\n",
       "      <td>Positive</td>\n",
       "      <td>Radiation Therapy</td>\n",
       "      <td>Complete Response</td>\n",
       "      <td>Deceased</td>\n",
       "    </tr>\n",
       "    <tr>\n",
       "      <th>19833</th>\n",
       "      <td>7b2c9233-609d-4bb4-8321-a395b868fadb</td>\n",
       "      <td>57</td>\n",
       "      <td>Female</td>\n",
       "      <td>1.83</td>\n",
       "      <td>Benign</td>\n",
       "      <td>Positive</td>\n",
       "      <td>Chemotherapy</td>\n",
       "      <td>No Response</td>\n",
       "      <td>Survived</td>\n",
       "    </tr>\n",
       "    <tr>\n",
       "      <th>19931</th>\n",
       "      <td>c88faaac-ba83-4a13-890d-e0577e21b89e</td>\n",
       "      <td>50</td>\n",
       "      <td>Female</td>\n",
       "      <td>6.53</td>\n",
       "      <td>Benign</td>\n",
       "      <td>Positive</td>\n",
       "      <td>Radiation Therapy</td>\n",
       "      <td>Complete Response</td>\n",
       "      <td>Deceased</td>\n",
       "    </tr>\n",
       "  </tbody>\n",
       "</table>\n",
       "<p>474 rows × 9 columns</p>\n",
       "</div>"
      ]
     },
     "execution_count": 12,
     "metadata": {},
     "output_type": "execute_result"
    }
   ],
   "execution_count": 12
  },
  {
   "metadata": {
    "ExecuteTime": {
     "end_time": "2024-08-24T03:42:54.613369Z",
     "start_time": "2024-08-24T03:42:43.138162Z"
    }
   },
   "cell_type": "code",
   "source": [
    "for i in range(0, 5):\n",
    "    generated_q = query_llama(user_query)\n",
    "    print(generated_q)"
   ],
   "id": "916fc860f84dd378",
   "outputs": [
    {
     "name": "stdout",
     "output_type": "stream",
     "text": [
      "result = df[(df['Age'] >= 50) & (df['Age'] <= 60) & (df['Gender'] == 'Female') & (df['Biopsy_Result'] == 'Positive') & (df['Tumor_Type'] == 'Benign')]\n",
      "result = df[(df['Age'] >= 50) & (df['Age'] <= 60) & (df['Gender'] == 'Female') & (df['Biopsy_Result'] == 'Positive') & (df['Tumor_Type'] == 'Benign')]\n",
      "result = df[(df['Age'] >= 50) & (df['Age'] <= 60) & (df['Gender'] == 'Female') & (df['Biopsy_Result'] == 'Positive') & (df['Tumor_Type'] == 'Benign')]\n",
      "result = df[(df['Age'] >= 50) & (df['Age'] <= 60) & (df['Gender'] == 'Female') & (df['Biopsy_Result'] == 'Positive') & (df['Tumor_Type'] == 'Benign')]\n",
      "result = df[(df['Age'] >= 50) & (df['Age'] <= 60) & (df['Gender'] == 'Female') & (df['Biopsy_Result'] == 'Positive') & (df['Tumor_Type'] == 'Benign')]\n"
     ]
    }
   ],
   "execution_count": 13
  },
  {
   "metadata": {
    "ExecuteTime": {
     "end_time": "2024-08-24T03:42:54.634838Z",
     "start_time": "2024-08-24T03:42:54.615464Z"
    }
   },
   "cell_type": "code",
   "source": [
    "local_vars = {}\n",
    "exec(generated_q, globals(), local_vars)\n",
    "print(local_vars['result'])"
   ],
   "id": "5f9b6d55ef276f2e",
   "outputs": [
    {
     "name": "stdout",
     "output_type": "stream",
     "text": [
      "                                 Patient_ID  Age  Gender  Tumor_Size  \\\n",
      "0      c044501a-43ca-4a0c-8b8b-991439ba1b6a   52  Female        5.08   \n",
      "11     4e9ae3b3-f55c-409e-8d81-79051572acf1   55  Female        0.81   \n",
      "102    b3e3e50b-1328-499b-9fac-ac4008cb8365   52  Female        0.89   \n",
      "188    8d54fea3-f739-4165-8d77-9a6fc668e48f   53  Female        1.84   \n",
      "202    bb5a381b-399f-4e1c-8ac0-7fd810b224f7   59  Female        4.95   \n",
      "...                                     ...  ...     ...         ...   \n",
      "19577  db7e0519-1a7e-4b4d-80df-b83039caa93e   59  Female        0.60   \n",
      "19603  748bef26-ce3c-47d8-a3a5-62cf54ba91c4   52  Female        9.59   \n",
      "19646  d069e1e6-4920-4f3b-b2f8-517e9b307998   51  Female        5.79   \n",
      "19833  7b2c9233-609d-4bb4-8321-a395b868fadb   57  Female        1.83   \n",
      "19931  c88faaac-ba83-4a13-890d-e0577e21b89e   50  Female        6.53   \n",
      "\n",
      "      Tumor_Type Biopsy_Result          Treatment Response_to_Treatment  \\\n",
      "0         Benign      Positive            Surgery           No Response   \n",
      "11        Benign      Positive            Surgery           No Response   \n",
      "102       Benign      Positive            Surgery      Partial Response   \n",
      "188       Benign      Positive  Radiation Therapy           No Response   \n",
      "202       Benign      Positive  Radiation Therapy           No Response   \n",
      "...          ...           ...                ...                   ...   \n",
      "19577     Benign      Positive       Chemotherapy           No Response   \n",
      "19603     Benign      Positive       Chemotherapy           No Response   \n",
      "19646     Benign      Positive  Radiation Therapy     Complete Response   \n",
      "19833     Benign      Positive       Chemotherapy           No Response   \n",
      "19931     Benign      Positive  Radiation Therapy     Complete Response   \n",
      "\n",
      "      Survival_Status  \n",
      "0            Survived  \n",
      "11           Deceased  \n",
      "102          Deceased  \n",
      "188          Deceased  \n",
      "202          Deceased  \n",
      "...               ...  \n",
      "19577        Deceased  \n",
      "19603        Survived  \n",
      "19646        Deceased  \n",
      "19833        Survived  \n",
      "19931        Deceased  \n",
      "\n",
      "[474 rows x 9 columns]\n"
     ]
    }
   ],
   "execution_count": 14
  },
  {
   "metadata": {
    "ExecuteTime": {
     "end_time": "2024-08-24T03:42:56.589445Z",
     "start_time": "2024-08-24T03:42:56.580592Z"
    }
   },
   "cell_type": "code",
   "source": [
    "query_map = [\n",
    "    {\n",
    "        \"question\": \"how many patients with age ranging from 40-60 with biopsy result positive?\",\n",
    "        \"query\": \"result = df[(df['Age'] >= 40) & (df['Age'] <= 60) & (df['Biopsy_Result'] == 'Positive')].shape[0]\"\n",
    "    },\n",
    "    {\n",
    "        \"question\": \"distribution of tumor size on female patient with Malignant\",\n",
    "       \"query\": \"result = df[(df['Gender'] == 'Female') & (df['Tumor_Type'] == 'Malignant')][['Tumor_Size(cm)']].describe()\",\n",
    "    },\n",
    "    {\n",
    "        \"question\": \"What is the median tumor size for patients who underwent surgery?\",\n",
    "        \"query\": \"result = df[df['Treatment'] == 'Surgery']['Tumor_Size'].median()\"\n",
    "    },\n",
    "    {\n",
    "        \"question\": \"How many patients over 60 years old have malignant tumors?\",\n",
    "        \"query\": \"result = df[(df['Age'] > 60) & (df['Tumor_Type'] == 'Malignant')].shape[0]\"\n",
    "    },\n",
    "    {\n",
    "        \"question\": \"What is the survival rate for patients who received radiation therapy?\",\n",
    "        \"query\": \"result = df[df['Treatment'] == 'Radiation Therapy']['Survival_Status'].value_counts(normalize=True)['Survived'] * 100\"\n",
    "    },\n",
    "    {\n",
    "        \"question\": \"What is the average age difference between male and female patients?\",\n",
    "        \"query\": \"result = df.groupby('Gender')['Age'].mean().diff().iloc[-1]\"\n",
    "    },\n",
    "    {\n",
    "        \"question\": \"How many patients had a complete response to treatment and survived?\",\n",
    "        \"query\": \"result = df[(df['Response_to_Treatment'] == 'Complete Response') & (df['Survival_Status'] == 'Survived')].shape[0]\"\n",
    "    },\n",
    "    {\n",
    "        \"question\": \"What percentage of patients with tumors smaller than 2.0 had benign tumors?\",\n",
    "        \"query\": \"result = df[df['Tumor_Size'] < 2.0]['Tumor_Type'].value_counts(normalize=True)['Benign'] * 100\"\n",
    "    },\n",
    "    {\n",
    "        \"question\": \"What is the average tumor size for patients who did not respond to treatment?\",\n",
    "        \"query\": \"result = df[df['Response_to_Treatment'] == 'No Response']['Tumor_Size'].mean()\"\n",
    "    },\n",
    "    {\n",
    "        \"question\": \"How many male patients over 70 years old received chemotherapy?\",\n",
    "        \"query\": \"result = df[(df['Gender'] == 'Male') & (df['Age'] > 70) & (df['Treatment'] == 'Chemotherapy')].shape[0]\"\n",
    "    },\n",
    "    {\n",
    "        \"question\": \"What is the survival rate for patients with malignant tumors?\",\n",
    "        \"query\": \"result = df[df['Tumor_Type'] == 'Malignant']['Survival_Status'].value_counts(normalize=True)['Survived'] * 100\"\n",
    "    },\n",
    "    {\n",
    "        \"question\": \"What is the most common treatment for patients under 40?\",\n",
    "        \"query\": \"result = df[df['Age'] < 40]['Treatment'].mode()[0]\"\n",
    "    },\n",
    "]"
   ],
   "id": "4046d795b92ff730",
   "outputs": [],
   "execution_count": 15
  },
  {
   "metadata": {
    "ExecuteTime": {
     "end_time": "2024-08-24T03:42:59.683973Z",
     "start_time": "2024-08-24T03:42:59.679269Z"
    }
   },
   "cell_type": "code",
   "source": "len(query_map)",
   "id": "740eacf8ff979d6f",
   "outputs": [
    {
     "data": {
      "text/plain": [
       "12"
      ]
     },
     "execution_count": 16,
     "metadata": {},
     "output_type": "execute_result"
    }
   ],
   "execution_count": 16
  },
  {
   "metadata": {
    "ExecuteTime": {
     "end_time": "2024-08-24T03:52:09.188501Z",
     "start_time": "2024-08-24T03:51:50.311821Z"
    }
   },
   "cell_type": "code",
   "source": [
    "total_similarity = 0\n",
    "\n",
    "for row in query_map:\n",
    "    question = row['question']\n",
    "    query = row['query']\n",
    "\n",
    "    # Generate embeddings for each sentence\n",
    "    expected_query_embeddings = model([query])\n",
    "    actual_generated = query_llama(question)\n",
    "    actual_query_embeddings = model([actual_generated])\n",
    "\n",
    "    expected_query_embeddings = expected_query_embeddings.numpy().flatten()\n",
    "    actual_query_embeddings = actual_query_embeddings.numpy().flatten()\n",
    "\n",
    "    # Compute the dot product of the vectors\n",
    "    dot_product = np.dot(expected_query_embeddings, actual_query_embeddings)\n",
    "    \n",
    "    # Compute the norms (magnitudes) of the vectors\n",
    "    norm_a = np.linalg.norm(expected_query_embeddings)\n",
    "    norm_b = np.linalg.norm(actual_query_embeddings)\n",
    "    \n",
    "    # Compute cosine similarity\n",
    "    cosine_similarity = dot_product / (norm_a * norm_b)\n",
    "    total_similarity += cosine_similarity\n",
    "    \n",
    "    # Convert cosine similarity to percentage\n",
    "    percentage_similarity = (cosine_similarity + 1) / 2 * 100\n",
    "    formatted_similarity = \"{:.2f}\".format(percentage_similarity)\n",
    "    \n",
    "    print(f\"{question}\")\n",
    "    print(f\"Expected          : {query}\")\n",
    "    print(f\"Actual            : {actual_generated}\")\n",
    "    print(f\"Cosine similarity : {formatted_similarity}%\")\n",
    "    print()\n",
    "    # local_vars = {}\n",
    "    # exec(actual_generated, globals(), local_vars)\n",
    "    # print(local_vars['result'])\n",
    "    # print(\"=\"*100)"
   ],
   "id": "ac99dfe1cf4a3dff",
   "outputs": [
    {
     "name": "stdout",
     "output_type": "stream",
     "text": [
      "how many patients with age ranging from 40-60 with biopsy result positive?\n",
      "Expected          : result = df[(df['Age'] >= 40) & (df['Age'] <= 60) & (df['Biopsy_Result'] == 'Positive')].shape[0]\n",
      "Actual            : result = df[(df['Age'] >= 40) & (df['Age'] <= 60) & (df['Biopsy_Result'] == 'Positive')].shape[0]\n",
      "Cosine similarity : 100.00%\n",
      "\n",
      "distribution of tumor size on female patient with Malignant\n",
      "Expected          : result = df[(df['Gender'] == 'Female') & (df['Tumor_Type'] == 'Malignant')][['Tumor_Size(cm)']].describe()\n",
      "Actual            : result = df[(df['Gender'] == 'Female') & (df['Tumor_Type'] == 'Malignant')][['Tumor_Size']].describe()\n",
      "Cosine similarity : 97.48%\n",
      "\n",
      "What is the median tumor size for patients who underwent surgery?\n",
      "Expected          : result = df[df['Treatment'] == 'Surgery']['Tumor_Size'].median()\n",
      "Actual            : result = df[df['Treatment'] == 'Surgery']['Tumor_Size'].median()\n",
      "Cosine similarity : 100.00%\n",
      "\n",
      "How many patients over 60 years old have malignant tumors?\n",
      "Expected          : result = df[(df['Age'] > 60) & (df['Tumor_Type'] == 'Malignant')].shape[0]\n",
      "Actual            : result = len(df[(df['Age'] > 60) & (df['Tumor_Type'] == 'Malignant')])\n",
      "Cosine similarity : 93.35%\n",
      "\n",
      "What is the survival rate for patients who received radiation therapy?\n",
      "Expected          : result = df[df['Treatment'] == 'Radiation Therapy']['Survival_Status'].value_counts(normalize=True)['Survived'] * 100\n",
      "Actual            : result = df[(df['Treatment'] == 'Radiation Therapy')][['Survival_Status']].value_counts().to_frame('count').groupby(['Survival_Status']).sum()/len(df[df['Treatment'] == 'Radiation Therapy'])\n",
      "Cosine similarity : 89.35%\n",
      "\n",
      "What is the average age difference between male and female patients?\n",
      "Expected          : result = df.groupby('Gender')['Age'].mean().diff().iloc[-1]\n",
      "Actual            : result = df.groupby('Gender')['Age'].mean().reset_index()\n",
      "Cosine similarity : 90.07%\n",
      "\n",
      "How many patients had a complete response to treatment and survived?\n",
      "Expected          : result = df[(df['Response_to_Treatment'] == 'Complete Response') & (df['Survival_Status'] == 'Survived')].shape[0]\n",
      "Actual            : result = df[(df['Response_to_Treatment'] == 'Complete Response') & (df['Survival_Status'] == 'Survived')].shape[0]\n",
      "Cosine similarity : 100.00%\n",
      "\n",
      "What percentage of patients with tumors smaller than 2.0 had benign tumors?\n",
      "Expected          : result = df[df['Tumor_Size'] < 2.0]['Tumor_Type'].value_counts(normalize=True)['Benign'] * 100\n",
      "Actual            : result = df[(df['Tumor_Size'] < 2.0) & (df['Tumor_Type'] == 'Benign')].shape[0] / df.shape[0] * 100\n",
      "Cosine similarity : 90.53%\n",
      "\n",
      "What is the average tumor size for patients who did not respond to treatment?\n",
      "Expected          : result = df[df['Response_to_Treatment'] == 'No Response']['Tumor_Size'].mean()\n",
      "Actual            : result = df[df['Response_to_Treatment'] == 'No Response']['Tumor_Size'].mean()\n",
      "Cosine similarity : 100.00%\n",
      "\n",
      "How many male patients over 70 years old received chemotherapy?\n",
      "Expected          : result = df[(df['Gender'] == 'Male') & (df['Age'] > 70) & (df['Treatment'] == 'Chemotherapy')].shape[0]\n",
      "Actual            : result = df[(df['Gender'] == 'Male') & (df['Age'] > 70) & (df['Treatment'] == 'Chemotherapy')].shape[0]\n",
      "Cosine similarity : 100.00%\n",
      "\n",
      "What is the survival rate for patients with malignant tumors?\n",
      "Expected          : result = df[df['Tumor_Type'] == 'Malignant']['Survival_Status'].value_counts(normalize=True)['Survived'] * 100\n",
      "Actual            : result = df[df['Tumor_Type'] == 'Malignant']['Survival_Status'].value_counts()['Survived'] / df['Survival_Status'].value_counts()['Survived']\n",
      "Cosine similarity : 89.80%\n",
      "\n",
      "What is the most common treatment for patients under 40?\n",
      "Expected          : result = df[df['Age'] < 40]['Treatment'].mode()[0]\n",
      "Actual            : result = df[df['Age'] < 40]['Treatment'].value_counts().index[0]\n",
      "Cosine similarity : 95.98%\n",
      "\n"
     ]
    }
   ],
   "execution_count": 31
  },
  {
   "metadata": {
    "ExecuteTime": {
     "end_time": "2024-08-24T03:53:12.556799Z",
     "start_time": "2024-08-24T03:53:12.552286Z"
    }
   },
   "cell_type": "code",
   "source": [
    "average_similarity = total_similarity / len(query_map)\n",
    "average_similarity_pct = (average_similarity + 1) / 2 * 100\n",
    "formatted_avg_sim_pct = \"{:.2f}\".format(average_similarity_pct)\n",
    "\n",
    "print(f\"Average similarity: {formatted_avg_sim_pct}%\")"
   ],
   "id": "5e39848a496c3ee9",
   "outputs": [
    {
     "name": "stdout",
     "output_type": "stream",
     "text": [
      "Average similarity: 95.55%\n"
     ]
    }
   ],
   "execution_count": 34
  }
 ],
 "metadata": {
  "kernelspec": {
   "display_name": "Python 3",
   "language": "python",
   "name": "python3"
  },
  "language_info": {
   "codemirror_mode": {
    "name": "ipython",
    "version": 2
   },
   "file_extension": ".py",
   "mimetype": "text/x-python",
   "name": "python",
   "nbconvert_exporter": "python",
   "pygments_lexer": "ipython2",
   "version": "2.7.6"
  }
 },
 "nbformat": 4,
 "nbformat_minor": 5
}
